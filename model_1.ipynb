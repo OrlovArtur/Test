{
  "nbformat": 4,
  "nbformat_minor": 0,
  "metadata": {
    "colab": {
      "provenance": [],
      "authorship_tag": "ABX9TyMEGHpMwLLg/V7u6mG7saeY",
      "include_colab_link": true
    },
    "kernelspec": {
      "name": "python3",
      "display_name": "Python 3"
    },
    "language_info": {
      "name": "python"
    }
  },
  "cells": [
    {
      "cell_type": "markdown",
      "metadata": {
        "id": "view-in-github",
        "colab_type": "text"
      },
      "source": [
        "<a href=\"https://colab.research.google.com/github/OrlovArtur/Test/blob/main/model_1.ipynb\" target=\"_parent\"><img src=\"https://colab.research.google.com/assets/colab-badge.svg\" alt=\"Open In Colab\"/></a>"
      ]
    },
    {
      "cell_type": "markdown",
      "source": [
        "# Читаем файлы"
      ],
      "metadata": {
        "id": "-KPsvwq_TPcB"
      }
    },
    {
      "cell_type": "code",
      "execution_count": 1,
      "metadata": {
        "colab": {
          "base_uri": "https://localhost:8080/"
        },
        "id": "HkvwLsLfDiB1",
        "outputId": "c1f3d684-e5ec-4d34-8da1-8a8086a8710a"
      },
      "outputs": [
        {
          "output_type": "stream",
          "name": "stdout",
          "text": [
            "/usr/local/lib/python3.8/dist-packages/gdown/cli.py:127: FutureWarning: Option `--id` was deprecated in version 4.3.1 and will be removed in 5.0. You don't need to pass it anymore to use a file ID.\n",
            "  warnings.warn(\n",
            "Downloading...\n",
            "From: https://drive.google.com/uc?id=11NIpw-ArcK-LHFENlai05GFL7H2ESTVv\n",
            "To: /content/train.csv\n",
            "100% 16.8k/16.8k [00:00<00:00, 14.6MB/s]\n"
          ]
        }
      ],
      "source": [
        "! gdown --id 11NIpw-ArcK-LHFENlai05GFL7H2ESTVv"
      ]
    },
    {
      "cell_type": "code",
      "source": [
        "! gdown --id 1HZgd7hwsfs6ZE6CZQl_GKiO-kWuHaSbq"
      ],
      "metadata": {
        "colab": {
          "base_uri": "https://localhost:8080/"
        },
        "id": "HDtj3-vhfBkL",
        "outputId": "bf3ecf1e-6fb8-42ca-f6bd-e87784f5184e"
      },
      "execution_count": 2,
      "outputs": [
        {
          "output_type": "stream",
          "name": "stdout",
          "text": [
            "/usr/local/lib/python3.8/dist-packages/gdown/cli.py:127: FutureWarning: Option `--id` was deprecated in version 4.3.1 and will be removed in 5.0. You don't need to pass it anymore to use a file ID.\n",
            "  warnings.warn(\n",
            "Downloading...\n",
            "From: https://drive.google.com/uc?id=1HZgd7hwsfs6ZE6CZQl_GKiO-kWuHaSbq\n",
            "To: /content/test.csv\n",
            "100% 795/795 [00:00<00:00, 805kB/s]\n"
          ]
        }
      ]
    },
    {
      "cell_type": "code",
      "source": [
        "! gdown --id 1NNd5-H9uR_ENk_OQYtTQXoCMjwUgHl_l"
      ],
      "metadata": {
        "colab": {
          "base_uri": "https://localhost:8080/"
        },
        "id": "Jpw4S-FZhIVp",
        "outputId": "4d860135-a647-4d71-a4e4-782d02c56ae9"
      },
      "execution_count": 3,
      "outputs": [
        {
          "output_type": "stream",
          "name": "stdout",
          "text": [
            "/usr/local/lib/python3.8/dist-packages/gdown/cli.py:127: FutureWarning: Option `--id` was deprecated in version 4.3.1 and will be removed in 5.0. You don't need to pass it anymore to use a file ID.\n",
            "  warnings.warn(\n",
            "Downloading...\n",
            "From: https://drive.google.com/uc?id=1NNd5-H9uR_ENk_OQYtTQXoCMjwUgHl_l\n",
            "To: /content/players_feats.csv\n",
            "100% 842k/842k [00:00<00:00, 61.2MB/s]\n"
          ]
        }
      ]
    },
    {
      "cell_type": "code",
      "source": [
        "import pandas as pd\n",
        "train = pd.read_csv('/content/train.csv')\n",
        "test = pd.read_csv('/content/test.csv')\n",
        "players_feats = pd.read_csv('/content/players_feats.csv')"
      ],
      "metadata": {
        "id": "vRbWyi8dEhlq"
      },
      "execution_count": 4,
      "outputs": []
    },
    {
      "cell_type": "markdown",
      "source": [
        "# Мерджим train с players_feats"
      ],
      "metadata": {
        "id": "gTC2UwlNTWqI"
      }
    },
    {
      "cell_type": "code",
      "source": [
        "#Создаем копию players_feats в которй переименован team_id team1_id\n",
        "t1 = players_feats.rename({'team_id': 'team1_id'},axis=1)"
      ],
      "metadata": {
        "id": "jmIqSNMqnPf6"
      },
      "execution_count": 5,
      "outputs": []
    },
    {
      "cell_type": "code",
      "source": [
        "#Мерджим train с t1\n",
        "df1 = train.merge(t1,how='left',on=['map_id','team1_id'])"
      ],
      "metadata": {
        "id": "TawpoAiX2KM6"
      },
      "execution_count": 6,
      "outputs": []
    },
    {
      "cell_type": "code",
      "source": [
        "#Создаем копию players_feats в которй переименован team_id на team2_id\n",
        "t2 = players_feats.rename({'team_id': 'team2_id'},axis=1)"
      ],
      "metadata": {
        "id": "lb5rHOdN4yI3"
      },
      "execution_count": 7,
      "outputs": []
    },
    {
      "cell_type": "code",
      "source": [
        "#Мерджим df1 с t2 и получаем полный датафрейм df_full с которым будем работать далее\n",
        "df_full = df1.merge(t2,how='left',on=['map_id','team2_id'])"
      ],
      "metadata": {
        "id": "JIHGUVDU45FS"
      },
      "execution_count": 8,
      "outputs": []
    },
    {
      "cell_type": "markdown",
      "source": [
        "Удаляю лишние столбцы с названием карт, которые продублировались после мерджей, оставляю только один"
      ],
      "metadata": {
        "id": "MeZwZgtV6UKY"
      }
    },
    {
      "cell_type": "code",
      "source": [
        "#удаляем столбцы\n",
        "df_full= df_full.drop(['map_name','map_name_y'], axis=1)"
      ],
      "metadata": {
        "id": "zALmnQgy5m2y"
      },
      "execution_count": 9,
      "outputs": []
    },
    {
      "cell_type": "code",
      "source": [
        "#переименовываем оставшийся столбец для удобтва\n",
        "df_full = df_full.rename({'map_name_x': 'map_name'},axis=1)"
      ],
      "metadata": {
        "id": "iByFULI76Pmu"
      },
      "execution_count": 10,
      "outputs": []
    },
    {
      "cell_type": "markdown",
      "source": [
        "Смотрим где есть пропуски данных и заполняем их значениями"
      ],
      "metadata": {
        "id": "sJ620-z-7Gx5"
      }
    },
    {
      "cell_type": "code",
      "source": [
        "#смотрим по каким столбцам есть NaN\n",
        "df_full.isna().mean()[df_full.isna().mean()> 0]"
      ],
      "metadata": {
        "colab": {
          "base_uri": "https://localhost:8080/"
        },
        "id": "MLzzroGf68Yt",
        "outputId": "c5d573ff-a54c-431d-a562-13edf4e961d3"
      },
      "execution_count": 11,
      "outputs": [
        {
          "output_type": "execute_result",
          "data": {
            "text/plain": [
              "p1_team_win_percent_after_first_kill_x    0.001403\n",
              "p2_team_win_percent_after_first_kill_x    0.001403\n",
              "p3_team_win_percent_after_first_kill_x    0.002805\n",
              "p4_team_win_percent_after_first_kill_x    0.002805\n",
              "p5_team_win_percent_after_first_kill_x    0.001403\n",
              "p1_team_win_percent_after_first_kill_y    0.002805\n",
              "p2_team_win_percent_after_first_kill_y    0.002805\n",
              "p3_team_win_percent_after_first_kill_y    0.002805\n",
              "p4_team_win_percent_after_first_kill_y    0.002805\n",
              "p5_team_win_percent_after_first_kill_y    0.004208\n",
              "dtype: float64"
            ]
          },
          "metadata": {},
          "execution_count": 11
        }
      ]
    },
    {
      "cell_type": "code",
      "source": [
        "#заменяем наши пропуски данных(NaN) на 0\n",
        "df_full[['p1_team_win_percent_after_first_kill_x',\n",
        "             'p2_team_win_percent_after_first_kill_x',\n",
        "             'p3_team_win_percent_after_first_kill_x',\n",
        "             'p4_team_win_percent_after_first_kill_x',\n",
        "             'p5_team_win_percent_after_first_kill_x',\n",
        "             'p1_team_win_percent_after_first_kill_y',\n",
        "             'p2_team_win_percent_after_first_kill_y',\n",
        "             'p3_team_win_percent_after_first_kill_y',\n",
        "             'p4_team_win_percent_after_first_kill_y',\n",
        "             'p5_team_win_percent_after_first_kill_y']] = df_full[['p1_team_win_percent_after_first_kill_x',\n",
        "                                                                  'p2_team_win_percent_after_first_kill_x',\n",
        "                                                                  'p3_team_win_percent_after_first_kill_x',\n",
        "                                                                  'p4_team_win_percent_after_first_kill_x',\n",
        "                                                                  'p5_team_win_percent_after_first_kill_x',\n",
        "                                                                  'p1_team_win_percent_after_first_kill_y',\n",
        "                                                                  'p2_team_win_percent_after_first_kill_y',\n",
        "                                                                  'p3_team_win_percent_after_first_kill_y',\n",
        "                                                                  'p4_team_win_percent_after_first_kill_y',\n",
        "                                                                  'p5_team_win_percent_after_first_kill_y']].fillna(0)"
      ],
      "metadata": {
        "id": "ag8WpH77J895"
      },
      "execution_count": 12,
      "outputs": []
    },
    {
      "cell_type": "code",
      "source": [
        "#проверяем все ли получилось\n",
        "df_full.isna().mean()[df_full.isna().mean()> 0]"
      ],
      "metadata": {
        "colab": {
          "base_uri": "https://localhost:8080/"
        },
        "id": "A-Waij2GM7I9",
        "outputId": "62137c5d-b502-4959-b8e0-ec645a2360ec"
      },
      "execution_count": 13,
      "outputs": [
        {
          "output_type": "execute_result",
          "data": {
            "text/plain": [
              "Series([], dtype: float64)"
            ]
          },
          "metadata": {},
          "execution_count": 13
        }
      ]
    },
    {
      "cell_type": "markdown",
      "source": [
        "# Готовим данные для обучения модели"
      ],
      "metadata": {
        "id": "i6YaGmENTt9z"
      }
    },
    {
      "cell_type": "markdown",
      "source": [
        "Получили датасет, разбиваем его та тренировочную часть и валидацию"
      ],
      "metadata": {
        "id": "0o7jZl-7OGcr"
      }
    },
    {
      "cell_type": "code",
      "source": [
        "from sklearn.model_selection import train_test_split\n",
        "df_full_train, df_full_val = train_test_split(df_full,train_size=0.8,random_state=19)"
      ],
      "metadata": {
        "id": "zkrVPeOTOao9"
      },
      "execution_count": 14,
      "outputs": []
    },
    {
      "cell_type": "code",
      "source": [
        "len(df_full_val)/len(df_full)"
      ],
      "metadata": {
        "colab": {
          "base_uri": "https://localhost:8080/"
        },
        "id": "jxPxufXEP5mj",
        "outputId": "1bcaab8f-51d0-4301-cb2e-0aacf81cb7ba"
      },
      "execution_count": 15,
      "outputs": [
        {
          "output_type": "execute_result",
          "data": {
            "text/plain": [
              "0.2005610098176718"
            ]
          },
          "metadata": {},
          "execution_count": 15
        }
      ]
    },
    {
      "cell_type": "code",
      "source": [
        "len(df_full_train)/len(df_full)"
      ],
      "metadata": {
        "colab": {
          "base_uri": "https://localhost:8080/"
        },
        "id": "-uw6irXuGSdS",
        "outputId": "da779b66-4364-4a94-c65b-2fb3998746de"
      },
      "execution_count": 16,
      "outputs": [
        {
          "output_type": "execute_result",
          "data": {
            "text/plain": [
              "0.7994389901823282"
            ]
          },
          "metadata": {},
          "execution_count": 16
        }
      ]
    },
    {
      "cell_type": "markdown",
      "source": [
        "Задаем фичи для нашей модели"
      ],
      "metadata": {
        "id": "y0p-WMvbQX5M"
      }
    },
    {
      "cell_type": "code",
      "source": [
        "#Все столбцы будут фичами за искл таргета\n",
        "X= list(df_full_train.drop('who_win', axis=1))\n",
        "#задаем категориальную переменную\n",
        "cat_features = ['map_name']\n",
        "#задаем таргет\n",
        "y = ['who_win']"
      ],
      "metadata": {
        "id": "c17LYjDYQa-T"
      },
      "execution_count": 17,
      "outputs": []
    },
    {
      "cell_type": "markdown",
      "source": [
        "# Запускаем модель"
      ],
      "metadata": {
        "id": "YQjy-jCcT68q"
      }
    },
    {
      "cell_type": "markdown",
      "source": [
        "Устанавливаем Catboost и запускаем его"
      ],
      "metadata": {
        "id": "wQIJNQdX1d4D"
      }
    },
    {
      "cell_type": "code",
      "source": [
        "! pip install catboost\n",
        "from catboost import CatBoostClassifier"
      ],
      "metadata": {
        "colab": {
          "base_uri": "https://localhost:8080/"
        },
        "id": "11WpxWNY1Buv",
        "outputId": "fe050268-cfd9-46e1-e3e0-6bf54039c135"
      },
      "execution_count": 18,
      "outputs": [
        {
          "output_type": "stream",
          "name": "stdout",
          "text": [
            "Looking in indexes: https://pypi.org/simple, https://us-python.pkg.dev/colab-wheels/public/simple/\n",
            "Requirement already satisfied: catboost in /usr/local/lib/python3.8/dist-packages (1.1.1)\n",
            "Requirement already satisfied: plotly in /usr/local/lib/python3.8/dist-packages (from catboost) (5.5.0)\n",
            "Requirement already satisfied: pandas>=0.24.0 in /usr/local/lib/python3.8/dist-packages (from catboost) (1.3.5)\n",
            "Requirement already satisfied: matplotlib in /usr/local/lib/python3.8/dist-packages (from catboost) (3.2.2)\n",
            "Requirement already satisfied: graphviz in /usr/local/lib/python3.8/dist-packages (from catboost) (0.10.1)\n",
            "Requirement already satisfied: six in /usr/local/lib/python3.8/dist-packages (from catboost) (1.15.0)\n",
            "Requirement already satisfied: numpy>=1.16.0 in /usr/local/lib/python3.8/dist-packages (from catboost) (1.21.6)\n",
            "Requirement already satisfied: scipy in /usr/local/lib/python3.8/dist-packages (from catboost) (1.7.3)\n",
            "Requirement already satisfied: pytz>=2017.3 in /usr/local/lib/python3.8/dist-packages (from pandas>=0.24.0->catboost) (2022.7)\n",
            "Requirement already satisfied: python-dateutil>=2.7.3 in /usr/local/lib/python3.8/dist-packages (from pandas>=0.24.0->catboost) (2.8.2)\n",
            "Requirement already satisfied: pyparsing!=2.0.4,!=2.1.2,!=2.1.6,>=2.0.1 in /usr/local/lib/python3.8/dist-packages (from matplotlib->catboost) (3.0.9)\n",
            "Requirement already satisfied: cycler>=0.10 in /usr/local/lib/python3.8/dist-packages (from matplotlib->catboost) (0.11.0)\n",
            "Requirement already satisfied: kiwisolver>=1.0.1 in /usr/local/lib/python3.8/dist-packages (from matplotlib->catboost) (1.4.4)\n",
            "Requirement already satisfied: tenacity>=6.2.0 in /usr/local/lib/python3.8/dist-packages (from plotly->catboost) (8.1.0)\n"
          ]
        }
      ]
    },
    {
      "cell_type": "code",
      "source": [
        "#задаем параметры\n",
        "parameters = {'verbose':100,\n",
        "              'cat_features': cat_features,\n",
        "              'random_seed':19,\n",
        "              'eval_metric':'AUC',\n",
        "              'learning_rate': 0.00001}"
      ],
      "metadata": {
        "id": "hgEB0sVX17jD"
      },
      "execution_count": 19,
      "outputs": []
    },
    {
      "cell_type": "code",
      "source": [
        "#запускаем обучение\n",
        "model = CatBoostClassifier(**parameters)\n",
        "model.fit(df_full_train[X],df_full_train[y],eval_set=(df_full_val[X],df_full_val[y]))"
      ],
      "metadata": {
        "colab": {
          "base_uri": "https://localhost:8080/"
        },
        "id": "7kUpciiI2X_X",
        "outputId": "243a1e68-d7ca-4d26-d57d-2abda0c96054"
      },
      "execution_count": 20,
      "outputs": [
        {
          "output_type": "stream",
          "name": "stdout",
          "text": [
            "0:\ttest: 0.4642157\tbest: 0.4642157 (0)\ttotal: 184ms\tremaining: 3m 3s\n",
            "100:\ttest: 0.6156863\tbest: 0.6243137 (96)\ttotal: 5.3s\tremaining: 47.2s\n",
            "200:\ttest: 0.6139216\tbest: 0.6243137 (96)\ttotal: 11.5s\tremaining: 45.8s\n",
            "300:\ttest: 0.6268627\tbest: 0.6325490 (256)\ttotal: 20.6s\tremaining: 47.9s\n",
            "400:\ttest: 0.6270588\tbest: 0.6325490 (256)\ttotal: 28.6s\tremaining: 42.7s\n",
            "500:\ttest: 0.6303922\tbest: 0.6325490 (256)\ttotal: 32.6s\tremaining: 32.5s\n",
            "600:\ttest: 0.6303922\tbest: 0.6329412 (556)\ttotal: 36.6s\tremaining: 24.3s\n",
            "700:\ttest: 0.6311765\tbest: 0.6343137 (627)\ttotal: 40.6s\tremaining: 17.3s\n",
            "800:\ttest: 0.6372549\tbest: 0.6388235 (763)\ttotal: 44.6s\tremaining: 11.1s\n",
            "900:\ttest: 0.6417647\tbest: 0.6417647 (900)\ttotal: 48.6s\tremaining: 5.34s\n",
            "999:\ttest: 0.6376471\tbest: 0.6421569 (901)\ttotal: 52.6s\tremaining: 0us\n",
            "\n",
            "bestTest = 0.6421568627\n",
            "bestIteration = 901\n",
            "\n",
            "Shrink model to first 902 iterations.\n"
          ]
        },
        {
          "output_type": "execute_result",
          "data": {
            "text/plain": [
              "<catboost.core.CatBoostClassifier at 0x7fd20ce46370>"
            ]
          },
          "metadata": {},
          "execution_count": 20
        }
      ]
    },
    {
      "cell_type": "markdown",
      "source": [
        "# Обучимся на всех данных"
      ],
      "metadata": {
        "id": "dq_-FKofUqiQ"
      }
    },
    {
      "cell_type": "code",
      "source": [
        "#задаем параметры\n",
        "parameters = {'verbose':100,\n",
        "              'cat_features': cat_features,\n",
        "              'random_seed':19,\n",
        "              'eval_metric':'AUC',\n",
        "              'learning_rate': 0.00001,\n",
        "              'iterations': model.best_iteration_ + 1,}"
      ],
      "metadata": {
        "id": "BILmOjhdOA8E"
      },
      "execution_count": 21,
      "outputs": []
    },
    {
      "cell_type": "code",
      "source": [
        "#запускаем обучение\n",
        "model = CatBoostClassifier(**parameters)\n",
        "model.fit(df_full[X],df_full[y])"
      ],
      "metadata": {
        "colab": {
          "base_uri": "https://localhost:8080/"
        },
        "id": "R85741UDOY7N",
        "outputId": "2aaac0a6-4e85-44be-c9b3-fca072cb4ecd"
      },
      "execution_count": 22,
      "outputs": [
        {
          "output_type": "stream",
          "name": "stdout",
          "text": [
            "0:\ttotal: 48.3ms\tremaining: 43.5s\n",
            "100:\ttotal: 5.98s\tremaining: 47.4s\n",
            "200:\ttotal: 14.4s\tremaining: 50.1s\n",
            "300:\ttotal: 25.2s\tremaining: 50.3s\n",
            "400:\ttotal: 32.4s\tremaining: 40.5s\n",
            "500:\ttotal: 37.5s\tremaining: 30s\n",
            "600:\ttotal: 42.6s\tremaining: 21.3s\n",
            "700:\ttotal: 47.7s\tremaining: 13.7s\n",
            "800:\ttotal: 52.8s\tremaining: 6.66s\n",
            "900:\ttotal: 57.8s\tremaining: 64.2ms\n",
            "901:\ttotal: 57.9s\tremaining: 0us\n"
          ]
        },
        {
          "output_type": "execute_result",
          "data": {
            "text/plain": [
              "<catboost.core.CatBoostClassifier at 0x7fd1f8894d00>"
            ]
          },
          "metadata": {},
          "execution_count": 22
        }
      ]
    },
    {
      "cell_type": "markdown",
      "source": [
        "Посмотрим на AUC для train"
      ],
      "metadata": {
        "id": "LLpeIhqTu5bC"
      }
    },
    {
      "cell_type": "code",
      "source": [
        "df_full['model_predict'] = model.predict(df_full[X])"
      ],
      "metadata": {
        "id": "D6QlIhSnu_jf"
      },
      "execution_count": 23,
      "outputs": []
    },
    {
      "cell_type": "code",
      "source": [
        "import sklearn.metrics as metrics\n",
        "# calculate the fpr and tpr for all thresholds of the classification\n",
        "\n",
        "fpr, tpr, threshold = metrics.roc_curve(df_full['who_win'], df_full['model_predict'])\n",
        "roc_auc = metrics.auc(fpr, tpr)\n",
        "\n",
        "# method I: plt\n",
        "import matplotlib.pyplot as plt\n",
        "plt.title('Receiver Operating Characteristic')\n",
        "plt.plot(fpr, tpr, 'b', label = 'AUC = %0.2f' % roc_auc)\n",
        "plt.legend(loc = 'lower right')\n",
        "plt.plot([0, 1], [0, 1],'r--')\n",
        "plt.xlim([0, 1])\n",
        "plt.ylim([0, 1])\n",
        "plt.ylabel('True Positive Rate')\n",
        "plt.xlabel('False Positive Rate')\n",
        "plt.show()"
      ],
      "metadata": {
        "colab": {
          "base_uri": "https://localhost:8080/",
          "height": 295
        },
        "id": "-7hb2iYiu4Z9",
        "outputId": "308ad3d9-5a3a-4b42-b17e-8e0648608a64"
      },
      "execution_count": 24,
      "outputs": [
        {
          "output_type": "display_data",
          "data": {
            "text/plain": [
              "<Figure size 432x288 with 1 Axes>"
            ],
            "image/png": "[encoded data removed]"
          },
          "metadata": {
            "needs_background": "light"
          }
        }
      ]
    },
    {
      "cell_type": "markdown",
      "source": [
        "# Делаем предикт для test"
      ],
      "metadata": {
        "id": "sBXop7GgUBOW"
      }
    },
    {
      "cell_type": "markdown",
      "source": [
        "Теперь нужно смерджить аналогично данные с test и сделать предикт для test"
      ],
      "metadata": {
        "id": "fGL8dVStZLrW"
      }
    },
    {
      "cell_type": "code",
      "source": [
        "#Мерджим test с t1\n",
        "test1 = test.merge(t1,how='left',on=['map_id','team1_id'])"
      ],
      "metadata": {
        "id": "Z6In21qjy0rz"
      },
      "execution_count": 25,
      "outputs": []
    },
    {
      "cell_type": "code",
      "source": [
        "#Мерджим test1 с t2 и получаем полный датафрейм test_full с которым будем работать далее\n",
        "test_full = test1.merge(t2,how='left',on=['map_id','team2_id'])"
      ],
      "metadata": {
        "id": "SnIt5Yx2y0r0"
      },
      "execution_count": 26,
      "outputs": []
    },
    {
      "cell_type": "markdown",
      "source": [
        "Удаляю лишние столбцы с названием карт, которые продублировались после мерджей, оставляю только один"
      ],
      "metadata": {
        "id": "-Wram1Avy0r1"
      }
    },
    {
      "cell_type": "code",
      "source": [
        "#удаляем столбцы\n",
        "test_full= test_full.drop(['map_name','map_name_y'], axis=1)"
      ],
      "metadata": {
        "id": "7eC7w44Cy0r1"
      },
      "execution_count": 27,
      "outputs": []
    },
    {
      "cell_type": "code",
      "source": [
        "#переименовываем оставшийся столбец для удобтва\n",
        "test_full = test_full.rename({'map_name_x': 'map_name'},axis=1)"
      ],
      "metadata": {
        "id": "1NW6d17hy0r1"
      },
      "execution_count": 28,
      "outputs": []
    },
    {
      "cell_type": "markdown",
      "source": [
        "Смотрим где есть пропуски данных(если есть) и заполняем их значениями"
      ],
      "metadata": {
        "id": "Y5eVz0Jny0r1"
      }
    },
    {
      "cell_type": "code",
      "source": [
        "#смотрим по каким столбцам есть NaN\n",
        "test_full.isna().mean()[test_full.isna().mean()> 0]"
      ],
      "metadata": {
        "colab": {
          "base_uri": "https://localhost:8080/"
        },
        "outputId": "73499b5b-9208-40b8-a7e8-eddec90fc786",
        "id": "0RhRUxx5y0r2"
      },
      "execution_count": 29,
      "outputs": [
        {
          "output_type": "execute_result",
          "data": {
            "text/plain": [
              "Series([], dtype: float64)"
            ]
          },
          "metadata": {},
          "execution_count": 29
        }
      ]
    },
    {
      "cell_type": "markdown",
      "source": [
        "Предикт для test"
      ],
      "metadata": {
        "id": "54nreL3Xzvjc"
      }
    },
    {
      "cell_type": "code",
      "source": [
        "test_full['model_predict'] = model.predict(test_full[X])"
      ],
      "metadata": {
        "id": "I_SfiNhrzzB3"
      },
      "execution_count": 30,
      "outputs": []
    },
    {
      "cell_type": "markdown",
      "source": [
        "Удаляем лишние столбцы для наглядности результата"
      ],
      "metadata": {
        "id": "bv8csBk70AMf"
      }
    },
    {
      "cell_type": "code",
      "source": [
        "test_full= test_full.drop(list(test_full.drop(['index','map_id','team1_id','team2_id','map_name','model_predict'], axis=1)), axis=1)"
      ],
      "metadata": {
        "id": "iGSJTe1d0HOI"
      },
      "execution_count": 31,
      "outputs": []
    },
    {
      "cell_type": "markdown",
      "source": [
        "Выгружаем наш test в отдельный csv"
      ],
      "metadata": {
        "id": "6spXj0Ih1kaW"
      }
    },
    {
      "cell_type": "markdown",
      "source": [
        "Выгружаем файл с предиктом"
      ],
      "metadata": {
        "id": "UhUORRKElfzg"
      }
    },
    {
      "cell_type": "code",
      "source": [
        "test_full.to_csv (r'/content/Data_louna_test_predict/test_predict1.csv')"
      ],
      "metadata": {
        "id": "_XaB5KAzTB3g"
      },
      "execution_count": 32,
      "outputs": []
    },
    {
      "cell_type": "code",
      "source": [
        "test_full"
      ],
      "metadata": {
        "colab": {
          "base_uri": "https://localhost:8080/",
          "height": 990
        },
        "id": "BeNk96GDwp6h",
        "outputId": "19a34d32-cc2c-4e7c-82da-878275cbbc90"
      },
      "execution_count": 33,
      "outputs": [
        {
          "output_type": "execute_result",
          "data": {
            "text/plain": [
              "    index  map_id  team1_id  team2_id  map_name  model_predict\n",
              "0     713     309      5973      5752     Dust2              0\n",
              "1     714     541      5973      5752   Vertigo              0\n",
              "2     715       1      8297      7020      Nuke              0\n",
              "3     716     392      8297      7020    Mirage              0\n",
              "4     717     684      8297      7020  Overpass              0\n",
              "5     718      85      4494      4411   Vertigo              0\n",
              "6     719     314      4494      4411   Inferno              0\n",
              "7     720     403      4494      4411    Mirage              0\n",
              "8     721     125      4608      7718   Inferno              0\n",
              "9     722     241      4608      7718    Mirage              0\n",
              "10    723     489      4608      7718  Overpass              0\n",
              "11    724     678      6665      6667  Overpass              1\n",
              "12    725     334      6665      6667   Inferno              0\n",
              "13    726     216      5973      8297   Ancient              0\n",
              "14    727     143      5973      8297    Mirage              0\n",
              "15    728     413      4494      6665    Mirage              0\n",
              "16    729     466      4494      6665      Nuke              0\n",
              "17    730      45      4494      6665   Ancient              0\n",
              "18    731     518      7718      5973   Ancient              0\n",
              "19    732     220      7718      5973   Inferno              0\n",
              "20    733     614      7718      5973   Vertigo              0\n",
              "21    734     246      4608      6665      Nuke              0\n",
              "22    735     652      4608      6665    Mirage              0\n",
              "23    736      86      6667      7718   Ancient              0\n",
              "24    737     628      6667      7718      Nuke              0\n",
              "25    738     515      4608      6667   Inferno              0\n",
              "26    739     201      4608      6667  Overpass              0\n",
              "27    740     674      4608      6667   Ancient              1\n",
              "28    741     357      4608      6667    Mirage              0\n",
              "29    742     593      4608      6667      Nuke              1"
            ],
            "text/html": [
              "\n",
              "  <div id=\"df-f30d36bb-f6d1-430a-9d8e-cb51a51c9ca0\">\n",
              "    <div class=\"colab-df-container\">\n",
              "      <div>\n",
              "<style scoped>\n",
              "    .dataframe tbody tr th:only-of-type {\n",
              "        vertical-align: middle;\n",
              "    }\n",
              "\n",
              "    .dataframe tbody tr th {\n",
              "        vertical-align: top;\n",
              "    }\n",
              "\n",
              "    .dataframe thead th {\n",
              "        text-align: right;\n",
              "    }\n",
              "</style>\n",
              "<table border=\"1\" class=\"dataframe\">\n",
              "  <thead>\n",
              "    <tr style=\"text-align: right;\">\n",
              "      <th></th>\n",
              "      <th>index</th>\n",
              "      <th>map_id</th>\n",
              "      <th>team1_id</th>\n",
              "      <th>team2_id</th>\n",
              "      <th>map_name</th>\n",
              "      <th>model_predict</th>\n",
              "    </tr>\n",
              "  </thead>\n",
              "  <tbody>\n",
              "    <tr>\n",
              "      <th>0</th>\n",
              "      <td>713</td>\n",
              "      <td>309</td>\n",
              "      <td>5973</td>\n",
              "      <td>5752</td>\n",
              "      <td>Dust2</td>\n",
              "      <td>0</td>\n",
              "    </tr>\n",
              "    <tr>\n",
              "      <th>1</th>\n",
              "      <td>714</td>\n",
              "      <td>541</td>\n",
              "      <td>5973</td>\n",
              "      <td>5752</td>\n",
              "      <td>Vertigo</td>\n",
              "      <td>0</td>\n",
              "    </tr>\n",
              "    <tr>\n",
              "      <th>2</th>\n",
              "      <td>715</td>\n",
              "      <td>1</td>\n",
              "      <td>8297</td>\n",
              "      <td>7020</td>\n",
              "      <td>Nuke</td>\n",
              "      <td>0</td>\n",
              "    </tr>\n",
              "    <tr>\n",
              "      <th>3</th>\n",
              "      <td>716</td>\n",
              "      <td>392</td>\n",
              "      <td>8297</td>\n",
              "      <td>7020</td>\n",
              "      <td>Mirage</td>\n",
              "      <td>0</td>\n",
              "    </tr>\n",
              "    <tr>\n",
              "      <th>4</th>\n",
              "      <td>717</td>\n",
              "      <td>684</td>\n",
              "      <td>8297</td>\n",
              "      <td>7020</td>\n",
              "      <td>Overpass</td>\n",
              "      <td>0</td>\n",
              "    </tr>\n",
              "    <tr>\n",
              "      <th>5</th>\n",
              "      <td>718</td>\n",
              "      <td>85</td>\n",
              "      <td>4494</td>\n",
              "      <td>4411</td>\n",
              "      <td>Vertigo</td>\n",
              "      <td>0</td>\n",
              "    </tr>\n",
              "    <tr>\n",
              "      <th>6</th>\n",
              "      <td>719</td>\n",
              "      <td>314</td>\n",
              "      <td>4494</td>\n",
              "      <td>4411</td>\n",
              "      <td>Inferno</td>\n",
              "      <td>0</td>\n",
              "    </tr>\n",
              "    <tr>\n",
              "      <th>7</th>\n",
              "      <td>720</td>\n",
              "      <td>403</td>\n",
              "      <td>4494</td>\n",
              "      <td>4411</td>\n",
              "      <td>Mirage</td>\n",
              "      <td>0</td>\n",
              "    </tr>\n",
              "    <tr>\n",
              "      <th>8</th>\n",
              "      <td>721</td>\n",
              "      <td>125</td>\n",
              "      <td>4608</td>\n",
              "      <td>7718</td>\n",
              "      <td>Inferno</td>\n",
              "      <td>0</td>\n",
              "    </tr>\n",
              "    <tr>\n",
              "      <th>9</th>\n",
              "      <td>722</td>\n",
              "      <td>241</td>\n",
              "      <td>4608</td>\n",
              "      <td>7718</td>\n",
              "      <td>Mirage</td>\n",
              "      <td>0</td>\n",
              "    </tr>\n",
              "    <tr>\n",
              "      <th>10</th>\n",
              "      <td>723</td>\n",
              "      <td>489</td>\n",
              "      <td>4608</td>\n",
              "      <td>7718</td>\n",
              "      <td>Overpass</td>\n",
              "      <td>0</td>\n",
              "    </tr>\n",
              "    <tr>\n",
              "      <th>11</th>\n",
              "      <td>724</td>\n",
              "      <td>678</td>\n",
              "      <td>6665</td>\n",
              "      <td>6667</td>\n",
              "      <td>Overpass</td>\n",
              "      <td>1</td>\n",
              "    </tr>\n",
              "    <tr>\n",
              "      <th>12</th>\n",
              "      <td>725</td>\n",
              "      <td>334</td>\n",
              "      <td>6665</td>\n",
              "      <td>6667</td>\n",
              "      <td>Inferno</td>\n",
              "      <td>0</td>\n",
              "    </tr>\n",
              "    <tr>\n",
              "      <th>13</th>\n",
              "      <td>726</td>\n",
              "      <td>216</td>\n",
              "      <td>5973</td>\n",
              "      <td>8297</td>\n",
              "      <td>Ancient</td>\n",
              "      <td>0</td>\n",
              "    </tr>\n",
              "    <tr>\n",
              "      <th>14</th>\n",
              "      <td>727</td>\n",
              "      <td>143</td>\n",
              "      <td>5973</td>\n",
              "      <td>8297</td>\n",
              "      <td>Mirage</td>\n",
              "      <td>0</td>\n",
              "    </tr>\n",
              "    <tr>\n",
              "      <th>15</th>\n",
              "      <td>728</td>\n",
              "      <td>413</td>\n",
              "      <td>4494</td>\n",
              "      <td>6665</td>\n",
              "      <td>Mirage</td>\n",
              "      <td>0</td>\n",
              "    </tr>\n",
              "    <tr>\n",
              "      <th>16</th>\n",
              "      <td>729</td>\n",
              "      <td>466</td>\n",
              "      <td>4494</td>\n",
              "      <td>6665</td>\n",
              "      <td>Nuke</td>\n",
              "      <td>0</td>\n",
              "    </tr>\n",
              "    <tr>\n",
              "      <th>17</th>\n",
              "      <td>730</td>\n",
              "      <td>45</td>\n",
              "      <td>4494</td>\n",
              "      <td>6665</td>\n",
              "      <td>Ancient</td>\n",
              "      <td>0</td>\n",
              "    </tr>\n",
              "    <tr>\n",
              "      <th>18</th>\n",
              "      <td>731</td>\n",
              "      <td>518</td>\n",
              "      <td>7718</td>\n",
              "      <td>5973</td>\n",
              "      <td>Ancient</td>\n",
              "      <td>0</td>\n",
              "    </tr>\n",
              "    <tr>\n",
              "      <th>19</th>\n",
              "      <td>732</td>\n",
              "      <td>220</td>\n",
              "      <td>7718</td>\n",
              "      <td>5973</td>\n",
              "      <td>Inferno</td>\n",
              "      <td>0</td>\n",
              "    </tr>\n",
              "    <tr>\n",
              "      <th>20</th>\n",
              "      <td>733</td>\n",
              "      <td>614</td>\n",
              "      <td>7718</td>\n",
              "      <td>5973</td>\n",
              "      <td>Vertigo</td>\n",
              "      <td>0</td>\n",
              "    </tr>\n",
              "    <tr>\n",
              "      <th>21</th>\n",
              "      <td>734</td>\n",
              "      <td>246</td>\n",
              "      <td>4608</td>\n",
              "      <td>6665</td>\n",
              "      <td>Nuke</td>\n",
              "      <td>0</td>\n",
              "    </tr>\n",
              "    <tr>\n",
              "      <th>22</th>\n",
              "      <td>735</td>\n",
              "      <td>652</td>\n",
              "      <td>4608</td>\n",
              "      <td>6665</td>\n",
              "      <td>Mirage</td>\n",
              "      <td>0</td>\n",
              "    </tr>\n",
              "    <tr>\n",
              "      <th>23</th>\n",
              "      <td>736</td>\n",
              "      <td>86</td>\n",
              "      <td>6667</td>\n",
              "      <td>7718</td>\n",
              "      <td>Ancient</td>\n",
              "      <td>0</td>\n",
              "    </tr>\n",
              "    <tr>\n",
              "      <th>24</th>\n",
              "      <td>737</td>\n",
              "      <td>628</td>\n",
              "      <td>6667</td>\n",
              "      <td>7718</td>\n",
              "      <td>Nuke</td>\n",
              "      <td>0</td>\n",
              "    </tr>\n",
              "    <tr>\n",
              "      <th>25</th>\n",
              "      <td>738</td>\n",
              "      <td>515</td>\n",
              "      <td>4608</td>\n",
              "      <td>6667</td>\n",
              "      <td>Inferno</td>\n",
              "      <td>0</td>\n",
              "    </tr>\n",
              "    <tr>\n",
              "      <th>26</th>\n",
              "      <td>739</td>\n",
              "      <td>201</td>\n",
              "      <td>4608</td>\n",
              "      <td>6667</td>\n",
              "      <td>Overpass</td>\n",
              "      <td>0</td>\n",
              "    </tr>\n",
              "    <tr>\n",
              "      <th>27</th>\n",
              "      <td>740</td>\n",
              "      <td>674</td>\n",
              "      <td>4608</td>\n",
              "      <td>6667</td>\n",
              "      <td>Ancient</td>\n",
              "      <td>1</td>\n",
              "    </tr>\n",
              "    <tr>\n",
              "      <th>28</th>\n",
              "      <td>741</td>\n",
              "      <td>357</td>\n",
              "      <td>4608</td>\n",
              "      <td>6667</td>\n",
              "      <td>Mirage</td>\n",
              "      <td>0</td>\n",
              "    </tr>\n",
              "    <tr>\n",
              "      <th>29</th>\n",
              "      <td>742</td>\n",
              "      <td>593</td>\n",
              "      <td>4608</td>\n",
              "      <td>6667</td>\n",
              "      <td>Nuke</td>\n",
              "      <td>1</td>\n",
              "    </tr>\n",
              "  </tbody>\n",
              "</table>\n",
              "</div>\n",
              "      <button class=\"colab-df-convert\" onclick=\"convertToInteractive('df-f30d36bb-f6d1-430a-9d8e-cb51a51c9ca0')\"\n",
              "              title=\"Convert this dataframe to an interactive table.\"\n",
              "              style=\"display:none;\">\n",
              "        \n",
              "  <svg xmlns=\"http://www.w3.org/2000/svg\" height=\"24px\"viewBox=\"0 0 24 24\"\n",
              "       width=\"24px\">\n",
              "    <path d=\"M0 0h24v24H0V0z\" fill=\"none\"/>\n",
              "    <path d=\"M18.56 5.44l.94 2.06.94-2.06 2.06-.94-2.06-.94-.94-2.06-.94 2.06-2.06.94zm-11 1L8.5 8.5l.94-2.06 2.06-.94-2.06-.94L8.5 2.5l-.94 2.06-2.06.94zm10 10l.94 2.06.94-2.06 2.06-.94-2.06-.94-.94-2.06-.94 2.06-2.06.94z\"/><path d=\"M17.41 7.96l-1.37-1.37c-.4-.4-.92-.59-1.43-.59-.52 0-1.04.2-1.43.59L10.3 9.45l-7.72 7.72c-.78.78-.78 2.05 0 2.83L4 21.41c.39.39.9.59 1.41.59.51 0 1.02-.2 1.41-.59l7.78-7.78 2.81-2.81c.8-.78.8-2.07 0-2.86zM5.41 20L4 18.59l7.72-7.72 1.47 1.35L5.41 20z\"/>\n",
              "  </svg>\n",
              "      </button>\n",
              "      \n",
              "  <style>\n",
              "    .colab-df-container {\n",
              "      display:flex;\n",
              "      flex-wrap:wrap;\n",
              "      gap: 12px;\n",
              "    }\n",
              "\n",
              "    .colab-df-convert {\n",
              "      background-color: #E8F0FE;\n",
              "      border: none;\n",
              "      border-radius: 50%;\n",
              "      cursor: pointer;\n",
              "      display: none;\n",
              "      fill: #1967D2;\n",
              "      height: 32px;\n",
              "      padding: 0 0 0 0;\n",
              "      width: 32px;\n",
              "    }\n",
              "\n",
              "    .colab-df-convert:hover {\n",
              "      background-color: #E2EBFA;\n",
              "      box-shadow: 0px 1px 2px rgba(60, 64, 67, 0.3), 0px 1px 3px 1px rgba(60, 64, 67, 0.15);\n",
              "      fill: #174EA6;\n",
              "    }\n",
              "\n",
              "    [theme=dark] .colab-df-convert {\n",
              "      background-color: #3B4455;\n",
              "      fill: #D2E3FC;\n",
              "    }\n",
              "\n",
              "    [theme=dark] .colab-df-convert:hover {\n",
              "      background-color: #434B5C;\n",
              "      box-shadow: 0px 1px 3px 1px rgba(0, 0, 0, 0.15);\n",
              "      filter: drop-shadow(0px 1px 2px rgba(0, 0, 0, 0.3));\n",
              "      fill: #FFFFFF;\n",
              "    }\n",
              "  </style>\n",
              "\n",
              "      <script>\n",
              "        const buttonEl =\n",
              "          document.querySelector('#df-f30d36bb-f6d1-430a-9d8e-cb51a51c9ca0 button.colab-df-convert');\n",
              "        buttonEl.style.display =\n",
              "          google.colab.kernel.accessAllowed ? 'block' : 'none';\n",
              "\n",
              "        async function convertToInteractive(key) {\n",
              "          const element = document.querySelector('#df-f30d36bb-f6d1-430a-9d8e-cb51a51c9ca0');\n",
              "          const dataTable =\n",
              "            await google.colab.kernel.invokeFunction('convertToInteractive',\n",
              "                                                     [key], {});\n",
              "          if (!dataTable) return;\n",
              "\n",
              "          const docLinkHtml = 'Like what you see? Visit the ' +\n",
              "            '<a target=\"_blank\" href=https://colab.research.google.com/notebooks/data_table.ipynb>data table notebook</a>'\n",
              "            + ' to learn more about interactive tables.';\n",
              "          element.innerHTML = '';\n",
              "          dataTable['output_type'] = 'display_data';\n",
              "          await google.colab.output.renderOutput(dataTable, element);\n",
              "          const docLink = document.createElement('div');\n",
              "          docLink.innerHTML = docLinkHtml;\n",
              "          element.appendChild(docLink);\n",
              "        }\n",
              "      </script>\n",
              "    </div>\n",
              "  </div>\n",
              "  "
            ]
          },
          "metadata": {},
          "execution_count": 33
        }
      ]
    }
  ]
}